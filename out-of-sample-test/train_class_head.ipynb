{
 "cells": [
  {
   "cell_type": "code",
   "execution_count": 4,
   "id": "229b8c2e",
   "metadata": {},
   "outputs": [
    {
     "ename": "NameError",
     "evalue": "name '_C' is not defined",
     "output_type": "error",
     "traceback": [
      "\u001b[1;31m---------------------------------------------------------------------------\u001b[0m",
      "\u001b[1;31mNameError\u001b[0m                                 Traceback (most recent call last)",
      "Cell \u001b[1;32mIn[4], line 8\u001b[0m\n\u001b[0;32m      6\u001b[0m \u001b[38;5;28;01mimport\u001b[39;00m \u001b[38;5;21;01mtime\u001b[39;00m\n\u001b[0;32m      7\u001b[0m \u001b[38;5;28;01mimport\u001b[39;00m \u001b[38;5;21;01mpandas\u001b[39;00m \u001b[38;5;28;01mas\u001b[39;00m \u001b[38;5;21;01mpd\u001b[39;00m\n\u001b[1;32m----> 8\u001b[0m \u001b[38;5;28;01mimport\u001b[39;00m \u001b[38;5;21;01mtorch\u001b[39;00m\n\u001b[0;32m      9\u001b[0m \u001b[38;5;28;01mimport\u001b[39;00m \u001b[38;5;21;01mnumpy\u001b[39;00m \u001b[38;5;28;01mas\u001b[39;00m \u001b[38;5;21;01mnp\u001b[39;00m\n\u001b[0;32m     10\u001b[0m \u001b[38;5;28;01mfrom\u001b[39;00m \u001b[38;5;21;01mPIL\u001b[39;00m \u001b[38;5;28;01mimport\u001b[39;00m Image\n",
      "File \u001b[1;32mc:\\Users\\benbu\\anaconda3\\Lib\\site-packages\\torch\\__init__.py:560\u001b[0m\n\u001b[0;32m    546\u001b[0m         \u001b[38;5;28;01mraise\u001b[39;00m \u001b[38;5;167;01mImportError\u001b[39;00m(textwrap\u001b[38;5;241m.\u001b[39mdedent(\u001b[38;5;124m'''\u001b[39m\n\u001b[0;32m    547\u001b[0m \u001b[38;5;124m            Failed to load PyTorch C extensions:\u001b[39m\n\u001b[0;32m    548\u001b[0m \u001b[38;5;124m                It appears that PyTorch has loaded the `torch/_C` folder\u001b[39m\n\u001b[1;32m   (...)\u001b[0m\n\u001b[0;32m    556\u001b[0m \u001b[38;5;124m                or by running Python from a different directory.\u001b[39m\n\u001b[0;32m    557\u001b[0m \u001b[38;5;124m            \u001b[39m\u001b[38;5;124m'''\u001b[39m)\u001b[38;5;241m.\u001b[39mstrip()) \u001b[38;5;28;01mfrom\u001b[39;00m \u001b[38;5;28;01mNone\u001b[39;00m\n\u001b[0;32m    558\u001b[0m     \u001b[38;5;28;01mraise\u001b[39;00m  \u001b[38;5;66;03m# If __file__ is not None the cause is unknown, so just re-raise.\u001b[39;00m\n\u001b[1;32m--> 560\u001b[0m \u001b[38;5;28;01mfor\u001b[39;00m name \u001b[38;5;129;01min\u001b[39;00m \u001b[38;5;28mdir\u001b[39m(_C):\n\u001b[0;32m    561\u001b[0m     \u001b[38;5;28;01mif\u001b[39;00m name[\u001b[38;5;241m0\u001b[39m] \u001b[38;5;241m!=\u001b[39m \u001b[38;5;124m'\u001b[39m\u001b[38;5;124m_\u001b[39m\u001b[38;5;124m'\u001b[39m \u001b[38;5;129;01mand\u001b[39;00m \u001b[38;5;129;01mnot\u001b[39;00m name\u001b[38;5;241m.\u001b[39mendswith(\u001b[38;5;124m'\u001b[39m\u001b[38;5;124mBase\u001b[39m\u001b[38;5;124m'\u001b[39m):\n\u001b[0;32m    562\u001b[0m         __all__\u001b[38;5;241m.\u001b[39mappend(name)\n",
      "\u001b[1;31mNameError\u001b[0m: name '_C' is not defined"
     ]
    }
   ],
   "source": [
    "\n",
    "# ## 1) Install dependencies\n",
    "# !pip install transformers torch torchvision pillow scikit-learn --quiet\n",
    "\n",
    "# ## 2) Imports & setup\n",
    "import os\n",
    "import time\n",
    "import pandas as pd\n",
    "import torch\n",
    "import numpy as np\n",
    "from PIL import Image\n",
    "from sklearn.model_selection import train_test_split\n",
    "from sklearn.metrics import accuracy_score, precision_score, recall_score, f1_score\n",
    "\n",
    "from torch.utils.data import Dataset, DataLoader\n",
    "from transformers import (\n",
    "    AutoConfig,\n",
    "    AutoImageProcessor,\n",
    "    AutoModelForImageClassification\n",
    ")\n",
    "\n",
    "# Use GPU if available\n",
    "device = torch.device(\"cuda\" if torch.cuda.is_available() else \"cpu\")\n",
    "print(\"Device:\", device)\n",
    "\n",
    "# Paths\n",
    "CSV_PATH  = \"challenge-2016-test_metadata_2025-05-14.csv\"\n",
    "IMAGE_DIR = \"ISIC-images\"\n"
   ]
  },
  {
   "cell_type": "code",
   "execution_count": null,
   "id": "27f74a00",
   "metadata": {},
   "outputs": [],
   "source": [
    "\n",
    "# %% [markdown]\n",
    "# ## 3) Load & prepare DataFrame\n",
    "df = pd.read_csv(CSV_PATH)\n",
    "df = df.dropna(subset=[\"benign_malignant\"])\n",
    "df[\"label\"] = df[\"benign_malignant\"].str.lower().map({\"benign\": 0, \"malignant\": 1})\n",
    "df = df[df[\"label\"].isin([0,1])].reset_index(drop=True)\n",
    "\n",
    "train_df, val_df = train_test_split(\n",
    "    df, test_size=0.2, stratify=df[\"label\"], random_state=42\n",
    ")\n",
    "print(f\"Train/Val sizes: {len(train_df)} / {len(val_df)}\")"
   ]
  },
  {
   "cell_type": "code",
   "execution_count": null,
   "id": "cbc44cc3",
   "metadata": {},
   "outputs": [],
   "source": [
    "\n",
    "# %% [markdown]\n",
    "# ## 4) Processor & Dataset\n",
    "model_name = \"Anwarkh1/Skin_Cancer-Image_Classification\"\n",
    "processor  = AutoImageProcessor.from_pretrained(model_name)\n",
    "\n",
    "class ISICDataset(Dataset):\n",
    "    def __init__(self, df):\n",
    "        self.df = df\n",
    "\n",
    "    def __len__(self):\n",
    "        return len(self.df)\n",
    "\n",
    "    def __getitem__(self, idx):\n",
    "        row = self.df.iloc[idx]\n",
    "        img_path = os.path.join(IMAGE_DIR, f\"{row['isic_id']}.jpg\")\n",
    "        img = Image.open(img_path).convert(\"RGB\")\n",
    "        proc = processor(images=img, return_tensors=\"pt\")\n",
    "        pixel_values = proc[\"pixel_values\"].squeeze(0)\n",
    "        label = torch.tensor(row[\"label\"], dtype=torch.long)\n",
    "        return pixel_values, label\n",
    "\n",
    "train_ds = ISICDataset(train_df)\n",
    "val_ds   = ISICDataset(val_df)\n",
    "\n",
    "train_loader = DataLoader(train_ds, batch_size=16, shuffle=True)\n",
    "val_loader   = DataLoader(val_ds,   batch_size=16)\n"
   ]
  },
  {
   "cell_type": "code",
   "execution_count": null,
   "id": "f05d881b",
   "metadata": {},
   "outputs": [],
   "source": [
    "\n",
    "# %% [markdown]\n",
    "# ## 5) Load model with fresh binary head\n",
    "#    (drops the original 7-way head and initializes a new 2-way head)\n",
    "config = AutoConfig.from_pretrained(\n",
    "    model_name,\n",
    "    num_labels=2,\n",
    "    id2label={0:\"benign\", 1:\"malignant\"},\n",
    "    label2id={\"benign\":0, \"malignant\":1},\n",
    ")\n",
    "model = AutoModelForImageClassification.from_pretrained(\n",
    "    model_name,\n",
    "    config=config,\n",
    "    ignore_mismatched_sizes=True\n",
    ").to(device)\n"
   ]
  },
  {
   "cell_type": "code",
   "execution_count": null,
   "id": "2f28fba0",
   "metadata": {},
   "outputs": [],
   "source": [
    "# %% [markdown]\n",
    "# ## 6) Optimizer, scheduler, loss\n",
    "optimizer = torch.optim.AdamW(model.parameters(), lr=3e-5)\n",
    "total_steps = len(train_loader) * 5  # if you run 5 epochs\n",
    "scheduler   = torch.optim.lr_scheduler.CosineAnnealingLR(optimizer, T_max=total_steps)\n",
    "criterion   = torch.nn.CrossEntropyLoss()"
   ]
  },
  {
   "cell_type": "code",
   "execution_count": null,
   "id": "f55689db",
   "metadata": {},
   "outputs": [],
   "source": [
    "# %% [markdown]\n",
    "# ## 7) Evaluation helper\n",
    "def evaluate():\n",
    "    model.eval()\n",
    "    preds, labs = [], []\n",
    "    with torch.no_grad():\n",
    "        for px, lb in val_loader:\n",
    "            px, lb = px.to(device), lb.to(device)\n",
    "            out = model(pixel_values=px).logits\n",
    "            preds.extend(out.argmax(-1).cpu().numpy())\n",
    "            labs.extend(lb.cpu().numpy())\n",
    "    return {\n",
    "        \"accuracy\":  accuracy_score(labs, preds),\n",
    "        \"precision\": precision_score(labs, preds),\n",
    "        \"recall\":    recall_score(labs, preds),\n",
    "        \"f1\":        f1_score(labs, preds)\n",
    "    }\n"
   ]
  },
  {
   "cell_type": "code",
   "execution_count": null,
   "id": "65babcf2",
   "metadata": {},
   "outputs": [
    {
     "name": "stdout",
     "output_type": "stream",
     "text": [
      "Device: cpu\n",
      "Train/Val sizes: 300 / 76\n"
     ]
    },
    {
     "name": "stderr",
     "output_type": "stream",
     "text": [
      "Fast image processor class <class 'transformers.models.vit.image_processing_vit_fast.ViTImageProcessorFast'> is available for this model. Using slow image processor class. To use the fast image processor class set `use_fast=True`.\n",
      "Some weights of ViTForImageClassification were not initialized from the model checkpoint at Anwarkh1/Skin_Cancer-Image_Classification and are newly initialized because the shapes did not match:\n",
      "- classifier.bias: found shape torch.Size([7]) in the checkpoint and torch.Size([2]) in the model instantiated\n",
      "- classifier.weight: found shape torch.Size([7, 768]) in the checkpoint and torch.Size([2, 768]) in the model instantiated\n",
      "You should probably TRAIN this model on a down-stream task to be able to use it for predictions and inference.\n",
      "c:\\Users\\benbu\\anaconda3\\Lib\\site-packages\\sklearn\\metrics\\_classification.py:1509: UndefinedMetricWarning: Precision is ill-defined and being set to 0.0 due to no predicted samples. Use `zero_division` parameter to control this behavior.\n",
      "  _warn_prf(average, modifier, f\"{metric.capitalize()} is\", len(result))\n"
     ]
    },
    {
     "name": "stdout",
     "output_type": "stream",
     "text": [
      "Epoch 1 — Acc: 0.803, Prec: 0.000, Rec: 0.000, F1: 0.000\n",
      "Epoch 2 — Acc: 0.842, Prec: 1.000, Rec: 0.200, F1: 0.333\n",
      "Epoch 3 — Acc: 0.842, Prec: 0.714, Rec: 0.333, F1: 0.455\n",
      "Epoch 4 — Acc: 0.842, Prec: 0.714, Rec: 0.333, F1: 0.455\n",
      "Epoch 5 — Acc: 0.842, Prec: 0.714, Rec: 0.333, F1: 0.455\n",
      "Done in 52.4 min — Best F1: 0.455\n"
     ]
    }
   ],
   "source": [
    "\n",
    "# %% [markdown]\n",
    "# ## 8) Training loop\n",
    "num_epochs = 5\n",
    "best_f1    = 0.0\n",
    "start_time = time.time()\n",
    "\n",
    "for epoch in range(1, num_epochs+1):\n",
    "    model.train()\n",
    "    for px, lb in train_loader:\n",
    "        px, lb = px.to(device), lb.to(device)\n",
    "        optimizer.zero_grad()\n",
    "        logits = model(pixel_values=px).logits\n",
    "        loss   = criterion(logits, lb)\n",
    "        loss.backward()\n",
    "        optimizer.step()\n",
    "        scheduler.step()\n",
    "\n",
    "    metrics = evaluate()\n",
    "    print(f\"Epoch {epoch} — \"\n",
    "          f\"Acc: {metrics['accuracy']:.3f}, \"\n",
    "          f\"Prec: {metrics['precision']:.3f}, \"\n",
    "          f\"Rec: {metrics['recall']:.3f}, \"\n",
    "          f\"F1: {metrics['f1']:.3f}\")\n",
    "\n",
    "    if metrics[\"f1\"] > best_f1:\n",
    "        best_f1 = metrics[\"f1\"]\n",
    "        torch.save(model.state_dict(), \"best_head.pt\")\n",
    "\n",
    "elapsed = time.time() - start_time\n",
    "print(f\"Done in {elapsed/60:.1f} min — Best F1: {best_f1:.3f}\")\n"
   ]
  }
 ],
 "metadata": {
  "kernelspec": {
   "display_name": "Python 3",
   "language": "python",
   "name": "python3"
  },
  "language_info": {
   "codemirror_mode": {
    "name": "ipython",
    "version": 3
   },
   "file_extension": ".py",
   "mimetype": "text/x-python",
   "name": "python",
   "nbconvert_exporter": "python",
   "pygments_lexer": "ipython3",
   "version": "3.12.4"
  }
 },
 "nbformat": 4,
 "nbformat_minor": 5
}
